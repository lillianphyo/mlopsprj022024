{
 "cells": [
  {
   "cell_type": "code",
   "execution_count": 17,
   "id": "c2160538-cd44-4218-b6fa-da1803824b9f",
   "metadata": {},
   "outputs": [],
   "source": [
    "import warnings\n",
    "warnings.filterwarnings('ignore')\n",
    "\n",
    "#importing the libraries\n",
    "import numpy as np\n",
    "import pandas as pd\n",
    "import matplotlib.pyplot as plt\n",
    "\n",
    "from sklearn.preprocessing import LabelEncoder, MinMaxScaler\n",
    "from sklearn.model_selection import train_test_split\n",
    "import matplotlib.pyplot as plt\n",
    "from tensorflow.keras.models import Sequential\n",
    "from tensorflow.keras.layers import LSTM, Dense, Dropout\n",
    "\n",
    "import seaborn as sns\n",
    "import glob\n",
    "import os"
   ]
  },
  {
   "cell_type": "code",
   "execution_count": 2,
   "id": "7b08672b-5252-4cd2-a7d9-049b6ed84d00",
   "metadata": {},
   "outputs": [
    {
     "data": {
      "text/plain": [
       "(3200, 20)"
      ]
     },
     "execution_count": 2,
     "metadata": {},
     "output_type": "execute_result"
    }
   ],
   "source": [
    "tmp_df=pd.read_csv('../data/ygn.csv')\n",
    "df=tmp_df.drop(['ISO3', 'country', 'adm1_name', 'adm2_name', 'mkt_name', 'lat', 'lon', 'start_dense_data', 'last_survey_point', 'rice', 'inflation_rice', 'trust_rice'], axis=1)\n",
    "tmp_df.shape"
   ]
  },
  {
   "cell_type": "code",
   "execution_count": 3,
   "id": "1e4ee638-9086-4a0f-98fe-e5649ec8520d",
   "metadata": {},
   "outputs": [
    {
     "data": {
      "text/html": [
       "<div>\n",
       "<style scoped>\n",
       "    .dataframe tbody tr th:only-of-type {\n",
       "        vertical-align: middle;\n",
       "    }\n",
       "\n",
       "    .dataframe tbody tr th {\n",
       "        vertical-align: top;\n",
       "    }\n",
       "\n",
       "    .dataframe thead th {\n",
       "        text-align: right;\n",
       "    }\n",
       "</style>\n",
       "<table border=\"1\" class=\"dataframe\">\n",
       "  <thead>\n",
       "    <tr style=\"text-align: right;\">\n",
       "      <th></th>\n",
       "      <th>geo_id</th>\n",
       "      <th>price_date</th>\n",
       "      <th>year</th>\n",
       "      <th>month</th>\n",
       "      <th>o_rice</th>\n",
       "      <th>h_rice</th>\n",
       "      <th>l_rice</th>\n",
       "      <th>c_rice</th>\n",
       "    </tr>\n",
       "  </thead>\n",
       "  <tbody>\n",
       "    <tr>\n",
       "      <th>0</th>\n",
       "      <td>gid_168475800962709700</td>\n",
       "      <td>2008-01-01</td>\n",
       "      <td>2008</td>\n",
       "      <td>1</td>\n",
       "      <td>506.26</td>\n",
       "      <td>518.56</td>\n",
       "      <td>480.60</td>\n",
       "      <td>505.03</td>\n",
       "    </tr>\n",
       "    <tr>\n",
       "      <th>1</th>\n",
       "      <td>gid_168475800962709700</td>\n",
       "      <td>2008-02-01</td>\n",
       "      <td>2008</td>\n",
       "      <td>2</td>\n",
       "      <td>498.36</td>\n",
       "      <td>517.30</td>\n",
       "      <td>479.43</td>\n",
       "      <td>483.79</td>\n",
       "    </tr>\n",
       "    <tr>\n",
       "      <th>2</th>\n",
       "      <td>gid_168475800962709700</td>\n",
       "      <td>2008-03-01</td>\n",
       "      <td>2008</td>\n",
       "      <td>3</td>\n",
       "      <td>476.91</td>\n",
       "      <td>494.87</td>\n",
       "      <td>458.95</td>\n",
       "      <td>488.50</td>\n",
       "    </tr>\n",
       "    <tr>\n",
       "      <th>3</th>\n",
       "      <td>gid_168475800962709700</td>\n",
       "      <td>2008-04-01</td>\n",
       "      <td>2008</td>\n",
       "      <td>4</td>\n",
       "      <td>484.13</td>\n",
       "      <td>502.07</td>\n",
       "      <td>466.19</td>\n",
       "      <td>496.94</td>\n",
       "    </tr>\n",
       "    <tr>\n",
       "      <th>4</th>\n",
       "      <td>gid_168475800962709700</td>\n",
       "      <td>2008-05-01</td>\n",
       "      <td>2008</td>\n",
       "      <td>5</td>\n",
       "      <td>500.49</td>\n",
       "      <td>576.52</td>\n",
       "      <td>482.42</td>\n",
       "      <td>576.52</td>\n",
       "    </tr>\n",
       "  </tbody>\n",
       "</table>\n",
       "</div>"
      ],
      "text/plain": [
       "                   geo_id  price_date  year  month  o_rice  h_rice  l_rice  \\\n",
       "0  gid_168475800962709700  2008-01-01  2008      1  506.26  518.56  480.60   \n",
       "1  gid_168475800962709700  2008-02-01  2008      2  498.36  517.30  479.43   \n",
       "2  gid_168475800962709700  2008-03-01  2008      3  476.91  494.87  458.95   \n",
       "3  gid_168475800962709700  2008-04-01  2008      4  484.13  502.07  466.19   \n",
       "4  gid_168475800962709700  2008-05-01  2008      5  500.49  576.52  482.42   \n",
       "\n",
       "   c_rice  \n",
       "0  505.03  \n",
       "1  483.79  \n",
       "2  488.50  \n",
       "3  496.94  \n",
       "4  576.52  "
      ]
     },
     "execution_count": 3,
     "metadata": {},
     "output_type": "execute_result"
    }
   ],
   "source": [
    "df.head()"
   ]
  },
  {
   "cell_type": "code",
   "execution_count": 4,
   "id": "6f0ee2b8-198a-47e9-b7f1-e94d42c568a7",
   "metadata": {},
   "outputs": [
    {
     "data": {
      "text/plain": [
       "array(['gid_168475800962709700', 'gid_169212100960973100',\n",
       "       'gid_167555100961521300', 'gid_168874400961019100',\n",
       "       'gid_167581500961430400', 'gid_168707700960527800',\n",
       "       'gid_169731400960750500', 'gid_169079700961810900',\n",
       "       'gid_168096700961240500', 'gid_169544700960746850',\n",
       "       'gid_168817000960499200', 'gid_169811576960701693',\n",
       "       'gid_169183900963370800', 'gid_167152900959299400',\n",
       "       'gid_169000100960918100', 'gid_169111900961616600'], dtype=object)"
      ]
     },
     "execution_count": 4,
     "metadata": {},
     "output_type": "execute_result"
    }
   ],
   "source": [
    "df['geo_id'].unique()"
   ]
  },
  {
   "cell_type": "code",
   "execution_count": 5,
   "id": "34ce6450-cfd6-4754-ad5f-7f51044980df",
   "metadata": {},
   "outputs": [
    {
     "data": {
      "text/plain": [
       "geo_id        0\n",
       "price_date    0\n",
       "year          0\n",
       "month         0\n",
       "o_rice        0\n",
       "h_rice        0\n",
       "l_rice        0\n",
       "c_rice        0\n",
       "dtype: int64"
      ]
     },
     "execution_count": 5,
     "metadata": {},
     "output_type": "execute_result"
    }
   ],
   "source": [
    "df.isnull().sum()"
   ]
  },
  {
   "cell_type": "code",
   "execution_count": 7,
   "id": "e46aca02-99d9-471c-ad32-ecd41be2f249",
   "metadata": {},
   "outputs": [],
   "source": [
    "df=df[df['geo_id'] == 'gid_168475800962709700']"
   ]
  },
  {
   "cell_type": "code",
   "execution_count": 10,
   "id": "e0601de9-559f-4c48-8ff5-7f1e78472853",
   "metadata": {},
   "outputs": [
    {
     "data": {
      "text/html": [
       "<div>\n",
       "<style scoped>\n",
       "    .dataframe tbody tr th:only-of-type {\n",
       "        vertical-align: middle;\n",
       "    }\n",
       "\n",
       "    .dataframe tbody tr th {\n",
       "        vertical-align: top;\n",
       "    }\n",
       "\n",
       "    .dataframe thead th {\n",
       "        text-align: right;\n",
       "    }\n",
       "</style>\n",
       "<table border=\"1\" class=\"dataframe\">\n",
       "  <thead>\n",
       "    <tr style=\"text-align: right;\">\n",
       "      <th></th>\n",
       "      <th>geo_id</th>\n",
       "      <th>price_date</th>\n",
       "      <th>year</th>\n",
       "      <th>month</th>\n",
       "      <th>o_rice</th>\n",
       "      <th>h_rice</th>\n",
       "      <th>l_rice</th>\n",
       "      <th>c_rice</th>\n",
       "    </tr>\n",
       "  </thead>\n",
       "  <tbody>\n",
       "    <tr>\n",
       "      <th>0</th>\n",
       "      <td>gid_168475800962709700</td>\n",
       "      <td>2008-01-01</td>\n",
       "      <td>2008</td>\n",
       "      <td>1</td>\n",
       "      <td>506.26</td>\n",
       "      <td>518.56</td>\n",
       "      <td>480.60</td>\n",
       "      <td>505.03</td>\n",
       "    </tr>\n",
       "    <tr>\n",
       "      <th>1</th>\n",
       "      <td>gid_168475800962709700</td>\n",
       "      <td>2008-02-01</td>\n",
       "      <td>2008</td>\n",
       "      <td>2</td>\n",
       "      <td>498.36</td>\n",
       "      <td>517.30</td>\n",
       "      <td>479.43</td>\n",
       "      <td>483.79</td>\n",
       "    </tr>\n",
       "    <tr>\n",
       "      <th>2</th>\n",
       "      <td>gid_168475800962709700</td>\n",
       "      <td>2008-03-01</td>\n",
       "      <td>2008</td>\n",
       "      <td>3</td>\n",
       "      <td>476.91</td>\n",
       "      <td>494.87</td>\n",
       "      <td>458.95</td>\n",
       "      <td>488.50</td>\n",
       "    </tr>\n",
       "    <tr>\n",
       "      <th>3</th>\n",
       "      <td>gid_168475800962709700</td>\n",
       "      <td>2008-04-01</td>\n",
       "      <td>2008</td>\n",
       "      <td>4</td>\n",
       "      <td>484.13</td>\n",
       "      <td>502.07</td>\n",
       "      <td>466.19</td>\n",
       "      <td>496.94</td>\n",
       "    </tr>\n",
       "    <tr>\n",
       "      <th>4</th>\n",
       "      <td>gid_168475800962709700</td>\n",
       "      <td>2008-05-01</td>\n",
       "      <td>2008</td>\n",
       "      <td>5</td>\n",
       "      <td>500.49</td>\n",
       "      <td>576.52</td>\n",
       "      <td>482.42</td>\n",
       "      <td>576.52</td>\n",
       "    </tr>\n",
       "  </tbody>\n",
       "</table>\n",
       "</div>"
      ],
      "text/plain": [
       "                   geo_id  price_date  year  month  o_rice  h_rice  l_rice  \\\n",
       "0  gid_168475800962709700  2008-01-01  2008      1  506.26  518.56  480.60   \n",
       "1  gid_168475800962709700  2008-02-01  2008      2  498.36  517.30  479.43   \n",
       "2  gid_168475800962709700  2008-03-01  2008      3  476.91  494.87  458.95   \n",
       "3  gid_168475800962709700  2008-04-01  2008      4  484.13  502.07  466.19   \n",
       "4  gid_168475800962709700  2008-05-01  2008      5  500.49  576.52  482.42   \n",
       "\n",
       "   c_rice  \n",
       "0  505.03  \n",
       "1  483.79  \n",
       "2  488.50  \n",
       "3  496.94  \n",
       "4  576.52  "
      ]
     },
     "execution_count": 10,
     "metadata": {},
     "output_type": "execute_result"
    }
   ],
   "source": [
    "df.head()"
   ]
  },
  {
   "cell_type": "code",
   "execution_count": 11,
   "id": "82bad137-deeb-4605-be0f-9ae72408bf9b",
   "metadata": {},
   "outputs": [],
   "source": [
    "# Convert 'price_date' to datetime\n",
    "df['price_date'] = pd.to_datetime(df['price_date'])"
   ]
  },
  {
   "cell_type": "code",
   "execution_count": 12,
   "id": "ac11ef9c-cd3c-4617-9e80-192914c8ba7c",
   "metadata": {},
   "outputs": [],
   "source": [
    "# Sort data by date\n",
    "df = df.sort_values('price_date')"
   ]
  },
  {
   "cell_type": "code",
   "execution_count": 13,
   "id": "543d9306-af25-4a58-8eab-8a79a70fb8ad",
   "metadata": {},
   "outputs": [],
   "source": [
    "# Handle missing values (if any)\n",
    "df = df.fillna(method='ffill')"
   ]
  },
  {
   "cell_type": "code",
   "execution_count": 85,
   "id": "5e5cb224-652c-40fe-bb04-db72d47ddc37",
   "metadata": {},
   "outputs": [],
   "source": [
    "# # Encode the 'geo_id' column\n",
    "# label_encoder = LabelEncoder()\n",
    "# df['geo_id_encoded'] = label_encoder.fit_transform(df['geo_id'])"
   ]
  },
  {
   "cell_type": "code",
   "execution_count": 86,
   "id": "e75e3b85-46f9-4fa8-8f21-db7c214a609f",
   "metadata": {},
   "outputs": [],
   "source": [
    "# # Drop the original 'geo_id' column if not needed\n",
    "# df.drop('geo_id', axis=1, inplace=True)"
   ]
  },
  {
   "cell_type": "code",
   "execution_count": 14,
   "id": "a849b80a-ce4f-4971-884e-4ce39699a1fc",
   "metadata": {},
   "outputs": [],
   "source": [
    "# # Scale the numeric features\n",
    "# scaler = MinMaxScaler(feature_range=(0, 1))\n",
    "# scaled_features = scaler.fit_transform(df[['o_rice', 'h_rice', 'l_rice', 'c_rice']])\n",
    "\n",
    "# Scale the input features\n",
    "feature_scaler = MinMaxScaler()\n",
    "scaled_features = feature_scaler.fit_transform(df[['o_rice', 'h_rice', 'l_rice', 'c_rice']])\n",
    "\n",
    "# Scale the target separately\n",
    "target_scaler = MinMaxScaler()\n",
    "scaled_target = target_scaler.fit_transform(df[['c_rice']])"
   ]
  },
  {
   "cell_type": "code",
   "execution_count": 15,
   "id": "6a268a96-ebcf-46cc-98a2-739cec5997e8",
   "metadata": {},
   "outputs": [],
   "source": [
    "# # Convert scaled features back to DataFrame\n",
    "# scaled_df = pd.DataFrame(scaled_features, columns=['o_rice', 'h_rice', 'l_rice', 'c_rice'])\n",
    "# scaled_df['price_date'] = df['price_date'].values\n",
    "# scaled_df['geo_id_encoded'] = df['geo_id_encoded'].values\n",
    "\n",
    "# Convert scaled features and target back to DataFrame\n",
    "scaled_df = pd.DataFrame(scaled_features, columns=['o_rice', 'h_rice', 'l_rice', 'c_rice'])\n",
    "scaled_df['price_date'] = df['price_date'].values\n",
    "scaled_df['c_rice_scaled'] = scaled_target"
   ]
  },
  {
   "cell_type": "code",
   "execution_count": 20,
   "id": "afe517d8-fb55-4bda-83cd-ec2ed619fcb3",
   "metadata": {},
   "outputs": [],
   "source": [
    "#Create sequences for LSTM\n",
    "def create_sequences(data, seq_length):\n",
    "    X = []\n",
    "    y = []\n",
    "    for i in range(len(data) - seq_length):\n",
    "        X.append(data[i:i+seq_length, :-1])  # All columns except target\n",
    "        y.append(data[i+seq_length, -1])  # Only the target column\n",
    "    return np.array(X), np.array(y)\n",
    "\n",
    "# Define the sequence length (e.g., 12 months)\n",
    "seq_length = 12\n",
    "\n",
    "# Convert the DataFrame to a NumPy array\n",
    "data = scaled_df[['o_rice', 'h_rice', 'l_rice', 'c_rice']].values\n",
    "\n",
    "# Create sequences\n",
    "X, y = create_sequences(data, seq_length)\n",
    "\n",
    "# Reshape X to [samples, time steps, features]\n",
    "X = X.reshape((X.shape[0], X.shape[1], X.shape[2]))\n",
    "\n",
    "# Update the data variable to include only the necessary columns\n",
    "data = scaled_df[['o_rice', 'h_rice', 'l_rice', 'c_rice_scaled']].values\n",
    "\n",
    "# Create sequences\n",
    "X, y = create_sequences(data, seq_length)"
   ]
  },
  {
   "cell_type": "code",
   "execution_count": 21,
   "id": "ca222314-bb8d-4904-85ca-81aae1c67813",
   "metadata": {},
   "outputs": [],
   "source": [
    "#Train-Test Split\n",
    "X_train, X_test, y_train, y_test = train_test_split(X, y, test_size=0.2, shuffle=False)"
   ]
  },
  {
   "cell_type": "code",
   "execution_count": 22,
   "id": "9cca71d6-6246-4525-b002-4b35c92a0308",
   "metadata": {},
   "outputs": [],
   "source": [
    "# Build the LSTM Model\n",
    "model = Sequential()\n",
    "\n",
    "# LSTM layer with 50 units\n",
    "model.add(LSTM(units=50, return_sequences=True, input_shape=(X_train.shape[1], X_train.shape[2])))\n",
    "model.add(Dropout(0.2))\n",
    "\n",
    "# LSTM layer with 50 units\n",
    "model.add(LSTM(units=50, return_sequences=False))\n",
    "model.add(Dropout(0.2))\n",
    "\n",
    "# Dense layer with 1 unit (output)\n",
    "model.add(Dense(units=1))\n",
    "\n",
    "# Compile the model\n",
    "model.compile(optimizer='adam', loss='mean_squared_error')"
   ]
  },
  {
   "cell_type": "code",
   "execution_count": 23,
   "id": "7a80c43e-18a6-4610-809d-69fd387d8221",
   "metadata": {},
   "outputs": [
    {
     "name": "stdout",
     "output_type": "stream",
     "text": [
      "Epoch 1/50\n",
      "\u001b[1m5/5\u001b[0m \u001b[32m━━━━━━━━━━━━━━━━━━━━\u001b[0m\u001b[37m\u001b[0m \u001b[1m2s\u001b[0m 65ms/step - loss: 0.0046 - val_loss: 0.0018\n",
      "Epoch 2/50\n",
      "\u001b[1m5/5\u001b[0m \u001b[32m━━━━━━━━━━━━━━━━━━━━\u001b[0m\u001b[37m\u001b[0m \u001b[1m0s\u001b[0m 11ms/step - loss: 0.0021 - val_loss: 6.0810e-04\n",
      "Epoch 3/50\n",
      "\u001b[1m5/5\u001b[0m \u001b[32m━━━━━━━━━━━━━━━━━━━━\u001b[0m\u001b[37m\u001b[0m \u001b[1m0s\u001b[0m 11ms/step - loss: 7.6112e-04 - val_loss: 4.6261e-04\n",
      "Epoch 4/50\n",
      "\u001b[1m5/5\u001b[0m \u001b[32m━━━━━━━━━━━━━━━━━━━━\u001b[0m\u001b[37m\u001b[0m \u001b[1m0s\u001b[0m 12ms/step - loss: 9.9335e-04 - val_loss: 0.0011\n",
      "Epoch 5/50\n",
      "\u001b[1m5/5\u001b[0m \u001b[32m━━━━━━━━━━━━━━━━━━━━\u001b[0m\u001b[37m\u001b[0m \u001b[1m0s\u001b[0m 12ms/step - loss: 4.9854e-04 - val_loss: 0.0021\n",
      "Epoch 6/50\n",
      "\u001b[1m5/5\u001b[0m \u001b[32m━━━━━━━━━━━━━━━━━━━━\u001b[0m\u001b[37m\u001b[0m \u001b[1m0s\u001b[0m 11ms/step - loss: 4.7882e-04 - val_loss: 0.0011\n",
      "Epoch 7/50\n",
      "\u001b[1m5/5\u001b[0m \u001b[32m━━━━━━━━━━━━━━━━━━━━\u001b[0m\u001b[37m\u001b[0m \u001b[1m0s\u001b[0m 11ms/step - loss: 3.8787e-04 - val_loss: 0.0014\n",
      "Epoch 8/50\n",
      "\u001b[1m5/5\u001b[0m \u001b[32m━━━━━━━━━━━━━━━━━━━━\u001b[0m\u001b[37m\u001b[0m \u001b[1m0s\u001b[0m 11ms/step - loss: 3.8044e-04 - val_loss: 0.0020\n",
      "Epoch 9/50\n",
      "\u001b[1m5/5\u001b[0m \u001b[32m━━━━━━━━━━━━━━━━━━━━\u001b[0m\u001b[37m\u001b[0m \u001b[1m0s\u001b[0m 11ms/step - loss: 3.7881e-04 - val_loss: 9.9412e-04\n",
      "Epoch 10/50\n",
      "\u001b[1m5/5\u001b[0m \u001b[32m━━━━━━━━━━━━━━━━━━━━\u001b[0m\u001b[37m\u001b[0m \u001b[1m0s\u001b[0m 20ms/step - loss: 3.3566e-04 - val_loss: 0.0011\n",
      "Epoch 11/50\n",
      "\u001b[1m5/5\u001b[0m \u001b[32m━━━━━━━━━━━━━━━━━━━━\u001b[0m\u001b[37m\u001b[0m \u001b[1m0s\u001b[0m 11ms/step - loss: 3.6993e-04 - val_loss: 0.0014\n",
      "Epoch 12/50\n",
      "\u001b[1m5/5\u001b[0m \u001b[32m━━━━━━━━━━━━━━━━━━━━\u001b[0m\u001b[37m\u001b[0m \u001b[1m0s\u001b[0m 11ms/step - loss: 2.7934e-04 - val_loss: 0.0012\n",
      "Epoch 13/50\n",
      "\u001b[1m5/5\u001b[0m \u001b[32m━━━━━━━━━━━━━━━━━━━━\u001b[0m\u001b[37m\u001b[0m \u001b[1m0s\u001b[0m 11ms/step - loss: 3.6633e-04 - val_loss: 9.6848e-04\n",
      "Epoch 14/50\n",
      "\u001b[1m5/5\u001b[0m \u001b[32m━━━━━━━━━━━━━━━━━━━━\u001b[0m\u001b[37m\u001b[0m \u001b[1m0s\u001b[0m 11ms/step - loss: 3.4287e-04 - val_loss: 0.0012\n",
      "Epoch 15/50\n",
      "\u001b[1m5/5\u001b[0m \u001b[32m━━━━━━━━━━━━━━━━━━━━\u001b[0m\u001b[37m\u001b[0m \u001b[1m0s\u001b[0m 11ms/step - loss: 3.9807e-04 - val_loss: 0.0015\n",
      "Epoch 16/50\n",
      "\u001b[1m5/5\u001b[0m \u001b[32m━━━━━━━━━━━━━━━━━━━━\u001b[0m\u001b[37m\u001b[0m \u001b[1m0s\u001b[0m 11ms/step - loss: 4.2159e-04 - val_loss: 0.0011\n",
      "Epoch 17/50\n",
      "\u001b[1m5/5\u001b[0m \u001b[32m━━━━━━━━━━━━━━━━━━━━\u001b[0m\u001b[37m\u001b[0m \u001b[1m0s\u001b[0m 11ms/step - loss: 3.5176e-04 - val_loss: 0.0011\n",
      "Epoch 18/50\n",
      "\u001b[1m5/5\u001b[0m \u001b[32m━━━━━━━━━━━━━━━━━━━━\u001b[0m\u001b[37m\u001b[0m \u001b[1m0s\u001b[0m 11ms/step - loss: 3.0901e-04 - val_loss: 0.0012\n",
      "Epoch 19/50\n",
      "\u001b[1m5/5\u001b[0m \u001b[32m━━━━━━━━━━━━━━━━━━━━\u001b[0m\u001b[37m\u001b[0m \u001b[1m0s\u001b[0m 11ms/step - loss: 3.3015e-04 - val_loss: 0.0011\n",
      "Epoch 20/50\n",
      "\u001b[1m5/5\u001b[0m \u001b[32m━━━━━━━━━━━━━━━━━━━━\u001b[0m\u001b[37m\u001b[0m \u001b[1m0s\u001b[0m 11ms/step - loss: 3.7144e-04 - val_loss: 0.0012\n",
      "Epoch 21/50\n",
      "\u001b[1m5/5\u001b[0m \u001b[32m━━━━━━━━━━━━━━━━━━━━\u001b[0m\u001b[37m\u001b[0m \u001b[1m0s\u001b[0m 12ms/step - loss: 3.9022e-04 - val_loss: 9.2118e-04\n",
      "Epoch 22/50\n",
      "\u001b[1m5/5\u001b[0m \u001b[32m━━━━━━━━━━━━━━━━━━━━\u001b[0m\u001b[37m\u001b[0m \u001b[1m0s\u001b[0m 11ms/step - loss: 3.3139e-04 - val_loss: 9.0734e-04\n",
      "Epoch 23/50\n",
      "\u001b[1m5/5\u001b[0m \u001b[32m━━━━━━━━━━━━━━━━━━━━\u001b[0m\u001b[37m\u001b[0m \u001b[1m0s\u001b[0m 11ms/step - loss: 3.1579e-04 - val_loss: 0.0011\n",
      "Epoch 24/50\n",
      "\u001b[1m5/5\u001b[0m \u001b[32m━━━━━━━━━━━━━━━━━━━━\u001b[0m\u001b[37m\u001b[0m \u001b[1m0s\u001b[0m 11ms/step - loss: 3.3809e-04 - val_loss: 8.1444e-04\n",
      "Epoch 25/50\n",
      "\u001b[1m5/5\u001b[0m \u001b[32m━━━━━━━━━━━━━━━━━━━━\u001b[0m\u001b[37m\u001b[0m \u001b[1m0s\u001b[0m 11ms/step - loss: 3.1605e-04 - val_loss: 0.0012\n",
      "Epoch 26/50\n",
      "\u001b[1m5/5\u001b[0m \u001b[32m━━━━━━━━━━━━━━━━━━━━\u001b[0m\u001b[37m\u001b[0m \u001b[1m0s\u001b[0m 12ms/step - loss: 2.8473e-04 - val_loss: 9.2592e-04\n",
      "Epoch 27/50\n",
      "\u001b[1m5/5\u001b[0m \u001b[32m━━━━━━━━━━━━━━━━━━━━\u001b[0m\u001b[37m\u001b[0m \u001b[1m0s\u001b[0m 21ms/step - loss: 2.7752e-04 - val_loss: 0.0010\n",
      "Epoch 28/50\n",
      "\u001b[1m5/5\u001b[0m \u001b[32m━━━━━━━━━━━━━━━━━━━━\u001b[0m\u001b[37m\u001b[0m \u001b[1m0s\u001b[0m 13ms/step - loss: 3.4733e-04 - val_loss: 0.0011\n",
      "Epoch 29/50\n",
      "\u001b[1m5/5\u001b[0m \u001b[32m━━━━━━━━━━━━━━━━━━━━\u001b[0m\u001b[37m\u001b[0m \u001b[1m0s\u001b[0m 11ms/step - loss: 2.8049e-04 - val_loss: 9.9972e-04\n",
      "Epoch 30/50\n",
      "\u001b[1m5/5\u001b[0m \u001b[32m━━━━━━━━━━━━━━━━━━━━\u001b[0m\u001b[37m\u001b[0m \u001b[1m0s\u001b[0m 11ms/step - loss: 4.0289e-04 - val_loss: 9.6380e-04\n",
      "Epoch 31/50\n",
      "\u001b[1m5/5\u001b[0m \u001b[32m━━━━━━━━━━━━━━━━━━━━\u001b[0m\u001b[37m\u001b[0m \u001b[1m0s\u001b[0m 11ms/step - loss: 2.6441e-04 - val_loss: 8.2829e-04\n",
      "Epoch 32/50\n",
      "\u001b[1m5/5\u001b[0m \u001b[32m━━━━━━━━━━━━━━━━━━━━\u001b[0m\u001b[37m\u001b[0m \u001b[1m0s\u001b[0m 11ms/step - loss: 3.6307e-04 - val_loss: 0.0011\n",
      "Epoch 33/50\n",
      "\u001b[1m5/5\u001b[0m \u001b[32m━━━━━━━━━━━━━━━━━━━━\u001b[0m\u001b[37m\u001b[0m \u001b[1m0s\u001b[0m 12ms/step - loss: 3.3616e-04 - val_loss: 0.0012\n",
      "Epoch 34/50\n",
      "\u001b[1m5/5\u001b[0m \u001b[32m━━━━━━━━━━━━━━━━━━━━\u001b[0m\u001b[37m\u001b[0m \u001b[1m0s\u001b[0m 11ms/step - loss: 2.9222e-04 - val_loss: 0.0011\n",
      "Epoch 35/50\n",
      "\u001b[1m5/5\u001b[0m \u001b[32m━━━━━━━━━━━━━━━━━━━━\u001b[0m\u001b[37m\u001b[0m \u001b[1m0s\u001b[0m 12ms/step - loss: 2.8980e-04 - val_loss: 9.1302e-04\n",
      "Epoch 36/50\n",
      "\u001b[1m5/5\u001b[0m \u001b[32m━━━━━━━━━━━━━━━━━━━━\u001b[0m\u001b[37m\u001b[0m \u001b[1m0s\u001b[0m 11ms/step - loss: 2.9735e-04 - val_loss: 0.0012\n",
      "Epoch 37/50\n",
      "\u001b[1m5/5\u001b[0m \u001b[32m━━━━━━━━━━━━━━━━━━━━\u001b[0m\u001b[37m\u001b[0m \u001b[1m0s\u001b[0m 12ms/step - loss: 2.6080e-04 - val_loss: 7.6255e-04\n",
      "Epoch 38/50\n",
      "\u001b[1m5/5\u001b[0m \u001b[32m━━━━━━━━━━━━━━━━━━━━\u001b[0m\u001b[37m\u001b[0m \u001b[1m0s\u001b[0m 11ms/step - loss: 2.9080e-04 - val_loss: 9.0920e-04\n",
      "Epoch 39/50\n",
      "\u001b[1m5/5\u001b[0m \u001b[32m━━━━━━━━━━━━━━━━━━━━\u001b[0m\u001b[37m\u001b[0m \u001b[1m0s\u001b[0m 11ms/step - loss: 2.7005e-04 - val_loss: 0.0012\n",
      "Epoch 40/50\n",
      "\u001b[1m5/5\u001b[0m \u001b[32m━━━━━━━━━━━━━━━━━━━━\u001b[0m\u001b[37m\u001b[0m \u001b[1m0s\u001b[0m 11ms/step - loss: 2.8109e-04 - val_loss: 6.7752e-04\n",
      "Epoch 41/50\n",
      "\u001b[1m5/5\u001b[0m \u001b[32m━━━━━━━━━━━━━━━━━━━━\u001b[0m\u001b[37m\u001b[0m \u001b[1m0s\u001b[0m 11ms/step - loss: 2.9692e-04 - val_loss: 9.5093e-04\n",
      "Epoch 42/50\n",
      "\u001b[1m5/5\u001b[0m \u001b[32m━━━━━━━━━━━━━━━━━━━━\u001b[0m\u001b[37m\u001b[0m \u001b[1m0s\u001b[0m 11ms/step - loss: 3.6022e-04 - val_loss: 0.0016\n",
      "Epoch 43/50\n",
      "\u001b[1m5/5\u001b[0m \u001b[32m━━━━━━━━━━━━━━━━━━━━\u001b[0m\u001b[37m\u001b[0m \u001b[1m0s\u001b[0m 11ms/step - loss: 3.3670e-04 - val_loss: 5.8321e-04\n",
      "Epoch 44/50\n",
      "\u001b[1m5/5\u001b[0m \u001b[32m━━━━━━━━━━━━━━━━━━━━\u001b[0m\u001b[37m\u001b[0m \u001b[1m0s\u001b[0m 11ms/step - loss: 3.6916e-04 - val_loss: 0.0011\n",
      "Epoch 45/50\n",
      "\u001b[1m5/5\u001b[0m \u001b[32m━━━━━━━━━━━━━━━━━━━━\u001b[0m\u001b[37m\u001b[0m \u001b[1m0s\u001b[0m 12ms/step - loss: 2.3337e-04 - val_loss: 0.0011\n",
      "Epoch 46/50\n",
      "\u001b[1m5/5\u001b[0m \u001b[32m━━━━━━━━━━━━━━━━━━━━\u001b[0m\u001b[37m\u001b[0m \u001b[1m0s\u001b[0m 11ms/step - loss: 2.0856e-04 - val_loss: 5.4949e-04\n",
      "Epoch 47/50\n",
      "\u001b[1m5/5\u001b[0m \u001b[32m━━━━━━━━━━━━━━━━━━━━\u001b[0m\u001b[37m\u001b[0m \u001b[1m0s\u001b[0m 12ms/step - loss: 2.8387e-04 - val_loss: 0.0013\n",
      "Epoch 48/50\n",
      "\u001b[1m5/5\u001b[0m \u001b[32m━━━━━━━━━━━━━━━━━━━━\u001b[0m\u001b[37m\u001b[0m \u001b[1m0s\u001b[0m 12ms/step - loss: 3.8755e-04 - val_loss: 6.9905e-04\n",
      "Epoch 49/50\n",
      "\u001b[1m5/5\u001b[0m \u001b[32m━━━━━━━━━━━━━━━━━━━━\u001b[0m\u001b[37m\u001b[0m \u001b[1m0s\u001b[0m 11ms/step - loss: 2.2825e-04 - val_loss: 8.2555e-04\n",
      "Epoch 50/50\n",
      "\u001b[1m5/5\u001b[0m \u001b[32m━━━━━━━━━━━━━━━━━━━━\u001b[0m\u001b[37m\u001b[0m \u001b[1m0s\u001b[0m 11ms/step - loss: 2.1040e-04 - val_loss: 0.0010\n"
     ]
    }
   ],
   "source": [
    "# Train the model\n",
    "history = model.fit(X_train, y_train, epochs=50, batch_size=32, validation_split=0.1)"
   ]
  },
  {
   "cell_type": "code",
   "execution_count": 24,
   "id": "d98888ae-a530-4330-8812-43d3e3a9a8fb",
   "metadata": {},
   "outputs": [
    {
     "name": "stdout",
     "output_type": "stream",
     "text": [
      "\u001b[1m2/2\u001b[0m \u001b[32m━━━━━━━━━━━━━━━━━━━━\u001b[0m\u001b[37m\u001b[0m \u001b[1m0s\u001b[0m 4ms/step - loss: 0.0104 \n",
      "Test Loss: 0.012343324720859528\n"
     ]
    }
   ],
   "source": [
    "# Evaluate the model\n",
    "test_loss = model.evaluate(X_test, y_test)\n",
    "print(f'Test Loss: {test_loss}')"
   ]
  },
  {
   "cell_type": "code",
   "execution_count": 25,
   "id": "d3aec3ac-e13c-447c-83b9-c0233b910eb2",
   "metadata": {},
   "outputs": [
    {
     "name": "stdout",
     "output_type": "stream",
     "text": [
      "\u001b[1m2/2\u001b[0m \u001b[32m━━━━━━━━━━━━━━━━━━━━\u001b[0m\u001b[37m\u001b[0m \u001b[1m0s\u001b[0m 169ms/step\n"
     ]
    }
   ],
   "source": [
    "# # Predictions\n",
    "# predictions = model.predict(X_test)\n",
    "# predictions = scaler.inverse_transform(predictions)\n",
    "# y_test = scaler.inverse_transform(y_test.reshape(-1, 1))\n",
    "\n",
    "# Predictions\n",
    "predictions = model.predict(X_test)\n"
   ]
  },
  {
   "cell_type": "code",
   "execution_count": 26,
   "id": "73835413-07c1-4bf8-b429-91b73bcc34f3",
   "metadata": {},
   "outputs": [],
   "source": [
    "# Inverse transform the predictions\n",
    "predictions = target_scaler.inverse_transform(predictions)\n",
    "y_test = target_scaler.inverse_transform(y_test.reshape(-1, 1))\n"
   ]
  },
  {
   "cell_type": "code",
   "execution_count": 28,
   "id": "451b61cd-c1b5-488a-8af1-e65351ea57d9",
   "metadata": {},
   "outputs": [
    {
     "data": {
      "image/png": "[encoded data removed]",
      "text/plain": [
       "<Figure size 1200x600 with 1 Axes>"
      ]
     },
     "metadata": {},
     "output_type": "display_data"
    }
   ],
   "source": [
    "# Plot the results\n",
    "plt.figure(figsize=(12, 6))\n",
    "plt.plot(y_test, color='blue', label='Actual Rice Price')\n",
    "plt.plot(predictions, color='red', label='Predicted Rice Price')\n",
    "plt.title('Rice Price Prediction')\n",
    "plt.xlabel('Time')\n",
    "plt.ylabel('Rice Price')\n",
    "plt.legend()\n",
    "plt.show()"
   ]
  },
  {
   "cell_type": "code",
   "execution_count": 32,
   "id": "9a1eacbd-d1bf-44e5-a938-34a1af2d00f1",
   "metadata": {},
   "outputs": [
    {
     "name": "stderr",
     "output_type": "stream",
     "text": [
      "WARNING:absl:You are saving your model as an HDF5 file via `model.save()` or `keras.saving.save_model(model)`. This file format is considered legacy. We recommend using instead the native Keras format, e.g. `model.save('my_model.keras')` or `keras.saving.save_model(model, 'my_model.keras')`. \n"
     ]
    }
   ],
   "source": [
    "# Save the model for future use\n",
    "# model.save('rice_price_prediction_model.h5')\n",
    "keras.saving.save_model(model, 'rice_price_prediction_model.keras')\n"
   ]
  },
  {
   "cell_type": "code",
   "execution_count": null,
   "id": "c7105b78-1752-4266-b7e5-4543b154e4d7",
   "metadata": {},
   "outputs": [],
   "source": []
  }
 ],
 "metadata": {
  "kernelspec": {
   "display_name": "Python 3 (ipykernel)",
   "language": "python",
   "name": "python3"
  },
  "language_info": {
   "codemirror_mode": {
    "name": "ipython",
    "version": 3
   },
   "file_extension": ".py",
   "mimetype": "text/x-python",
   "name": "python",
   "nbconvert_exporter": "python",
   "pygments_lexer": "ipython3",
   "version": "3.12.3"
  }
 },
 "nbformat": 4,
 "nbformat_minor": 5
}
